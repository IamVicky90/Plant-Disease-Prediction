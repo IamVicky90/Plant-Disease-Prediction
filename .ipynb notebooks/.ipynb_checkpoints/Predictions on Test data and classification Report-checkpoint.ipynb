{
 "cells": [
  {
   "cell_type": "code",
   "execution_count": 1,
   "metadata": {
    "colab": {
     "base_uri": "https://localhost:8080/"
    },
    "executionInfo": {
     "elapsed": 965,
     "status": "ok",
     "timestamp": 1606028844762,
     "user": {
      "displayName": "waqas bilal",
      "photoUrl": "",
      "userId": "09992051305956338150"
     },
     "user_tz": -300
    },
    "id": "plvEOEA6s99A",
    "outputId": "100ff7d9-ed63-4d34-8248-27c595a13b58"
   },
   "outputs": [
    {
     "name": "stdout",
     "output_type": "stream",
     "text": [
      "Sun Nov 22 07:07:25 2020       \n",
      "+-----------------------------------------------------------------------------+\n",
      "| NVIDIA-SMI 455.38       Driver Version: 418.67       CUDA Version: 10.1     |\n",
      "|-------------------------------+----------------------+----------------------+\n",
      "| GPU  Name        Persistence-M| Bus-Id        Disp.A | Volatile Uncorr. ECC |\n",
      "| Fan  Temp  Perf  Pwr:Usage/Cap|         Memory-Usage | GPU-Util  Compute M. |\n",
      "|                               |                      |               MIG M. |\n",
      "|===============================+======================+======================|\n",
      "|   0  Tesla T4            Off  | 00000000:00:04.0 Off |                    0 |\n",
      "| N/A   44C    P8    10W /  70W |      0MiB / 15079MiB |      0%      Default |\n",
      "|                               |                      |                 ERR! |\n",
      "+-------------------------------+----------------------+----------------------+\n",
      "                                                                               \n",
      "+-----------------------------------------------------------------------------+\n",
      "| Processes:                                                                  |\n",
      "|  GPU   GI   CI        PID   Type   Process name                  GPU Memory |\n",
      "|        ID   ID                                                   Usage      |\n",
      "|=============================================================================|\n",
      "|  No running processes found                                                 |\n",
      "+-----------------------------------------------------------------------------+\n"
     ]
    }
   ],
   "source": [
    "!nvidia-smi"
   ]
  },
  {
   "cell_type": "code",
   "execution_count": 2,
   "metadata": {
    "executionInfo": {
     "elapsed": 3269,
     "status": "ok",
     "timestamp": 1606028847080,
     "user": {
      "displayName": "waqas bilal",
      "photoUrl": "",
      "userId": "09992051305956338150"
     },
     "user_tz": -300
    },
    "id": "_G4LrwwisDfh"
   },
   "outputs": [],
   "source": [
    "import keras\n",
    "from keras.preprocessing.image import ImageDataGenerator\n",
    "from sklearn.metrics import confusion_matrix, classification_report\n",
    "import numpy as np"
   ]
  },
  {
   "cell_type": "code",
   "execution_count": 3,
   "metadata": {
    "executionInfo": {
     "elapsed": 3268,
     "status": "ok",
     "timestamp": 1606028847088,
     "user": {
      "displayName": "waqas bilal",
      "photoUrl": "",
      "userId": "09992051305956338150"
     },
     "user_tz": -300
    },
    "id": "4QnQXL-Wrfb5"
   },
   "outputs": [],
   "source": [
    "test_data_path=\"/content/drive/MyDrive/Various Plant Disesse Detection Prediction Limited Data/test\""
   ]
  },
  {
   "cell_type": "code",
   "execution_count": 4,
   "metadata": {
    "executionInfo": {
     "elapsed": 3260,
     "status": "ok",
     "timestamp": 1606028847089,
     "user": {
      "displayName": "waqas bilal",
      "photoUrl": "",
      "userId": "09992051305956338150"
     },
     "user_tz": -300
    },
    "id": "RSvwYjX3r1zG"
   },
   "outputs": [],
   "source": [
    "test_datagen=ImageDataGenerator(rescale=1/255)"
   ]
  },
  {
   "cell_type": "code",
   "execution_count": 5,
   "metadata": {
    "colab": {
     "base_uri": "https://localhost:8080/"
    },
    "executionInfo": {
     "elapsed": 3254,
     "status": "ok",
     "timestamp": 1606028847092,
     "user": {
      "displayName": "waqas bilal",
      "photoUrl": "",
      "userId": "09992051305956338150"
     },
     "user_tz": -300
    },
    "id": "P0XK4nASr-su",
    "outputId": "d8bef918-2550-436e-c6b9-2126e2c2b3a9"
   },
   "outputs": [
    {
     "name": "stdout",
     "output_type": "stream",
     "text": [
      "Found 263 images belonging to 19 classes.\n"
     ]
    }
   ],
   "source": [
    "test_data=test_datagen.flow_from_directory(test_data_path,target_size=(150,150),class_mode='binary',batch_size=32)"
   ]
  },
  {
   "cell_type": "code",
   "execution_count": 6,
   "metadata": {
    "executionInfo": {
     "elapsed": 3243,
     "status": "ok",
     "timestamp": 1606028847092,
     "user": {
      "displayName": "waqas bilal",
      "photoUrl": "",
      "userId": "09992051305956338150"
     },
     "user_tz": -300
    },
    "id": "O82u5eA3tj20"
   },
   "outputs": [],
   "source": [
    "class_dict=test_data.class_indices"
   ]
  },
  {
   "cell_type": "code",
   "execution_count": 7,
   "metadata": {
    "executionInfo": {
     "elapsed": 3235,
     "status": "ok",
     "timestamp": 1606028847093,
     "user": {
      "displayName": "waqas bilal",
      "photoUrl": "",
      "userId": "09992051305956338150"
     },
     "user_tz": -300
    },
    "id": "hUE4rrW_sNZf"
   },
   "outputs": [],
   "source": [
    "from keras.models import load_model"
   ]
  },
  {
   "cell_type": "code",
   "execution_count": 8,
   "metadata": {
    "executionInfo": {
     "elapsed": 4372,
     "status": "ok",
     "timestamp": 1606028848239,
     "user": {
      "displayName": "waqas bilal",
      "photoUrl": "",
      "userId": "09992051305956338150"
     },
     "user_tz": -300
    },
    "id": "Fbh_l5mKsbvm"
   },
   "outputs": [],
   "source": [
    "\n",
    "model = load_model('/content/drive/MyDrive/PLANT DISEASE DETECTION H5 MODEL/Various Plant Disease Detection Model1.h5')"
   ]
  },
  {
   "cell_type": "code",
   "execution_count": 9,
   "metadata": {
    "executionInfo": {
     "elapsed": 4366,
     "status": "ok",
     "timestamp": 1606028848242,
     "user": {
      "displayName": "waqas bilal",
      "photoUrl": "",
      "userId": "09992051305956338150"
     },
     "user_tz": -300
    },
    "id": "_MPF4Gzpskaq"
   },
   "outputs": [],
   "source": [
    "# pred=model.predict(test_data)"
   ]
  },
  {
   "cell_type": "code",
   "execution_count": 10,
   "metadata": {
    "colab": {
     "base_uri": "https://localhost:8080/"
    },
    "executionInfo": {
     "elapsed": 10248,
     "status": "ok",
     "timestamp": 1606028854134,
     "user": {
      "displayName": "waqas bilal",
      "photoUrl": "",
      "userId": "09992051305956338150"
     },
     "user_tz": -300
    },
    "id": "T2ol_PouvH8L",
    "outputId": "4254bbcc-4afc-49ad-dca0-7bc2a98c50af"
   },
   "outputs": [
    {
     "name": "stdout",
     "output_type": "stream",
     "text": [
      "WARNING:tensorflow:From <ipython-input-10-1bbde2088465>:3: Model.predict_generator (from tensorflow.python.keras.engine.training) is deprecated and will be removed in a future version.\n",
      "Instructions for updating:\n",
      "Please use Model.predict, which supports generators.\n"
     ]
    }
   ],
   "source": [
    "test_steps_per_epoch = np.math.ceil(test_data.samples / test_data.batch_size)\n",
    "\n",
    "predictions = model.predict_generator(test_data, steps=test_steps_per_epoch)\n",
    "# Get most likely class\n",
    "predicted_classes = np.argmax(predictions, axis=1)"
   ]
  },
  {
   "cell_type": "code",
   "execution_count": 11,
   "metadata": {
    "executionInfo": {
     "elapsed": 10241,
     "status": "ok",
     "timestamp": 1606028854136,
     "user": {
      "displayName": "waqas bilal",
      "photoUrl": "",
      "userId": "09992051305956338150"
     },
     "user_tz": -300
    },
    "id": "0FG5Fu1lvTJN"
   },
   "outputs": [],
   "source": [
    "true_classes = test_data.classes\n",
    "class_labels = list(test_data.class_indices.keys())   "
   ]
  },
  {
   "cell_type": "code",
   "execution_count": 12,
   "metadata": {
    "colab": {
     "base_uri": "https://localhost:8080/"
    },
    "executionInfo": {
     "elapsed": 10231,
     "status": "ok",
     "timestamp": 1606028854138,
     "user": {
      "displayName": "waqas bilal",
      "photoUrl": "",
      "userId": "09992051305956338150"
     },
     "user_tz": -300
    },
    "id": "hxKEDdzBwqxD",
    "outputId": "a577da0e-1594-476b-e445-208fcd90935e"
   },
   "outputs": [
    {
     "name": "stdout",
     "output_type": "stream",
     "text": [
      "                                             precision    recall  f1-score   support\n",
      "\n",
      "              Pepper__bell___Bacterial_spot       0.00      0.00      0.00        10\n",
      "                     Pepper__bell___healthy       0.00      0.00      0.00        20\n",
      "                      Potato___Early_blight       0.00      0.00      0.00        10\n",
      "                       Potato___Late_blight       0.00      0.00      0.00        10\n",
      "                           Potato___healthy       0.00      0.00      0.00        20\n",
      "                      Tomato_Bacterial_spot       0.10      0.10      0.10        10\n",
      "                        Tomato_Early_blight       0.00      0.00      0.00        10\n",
      "                         Tomato_Late_blight       0.11      0.10      0.11        10\n",
      "                           Tomato_Leaf_Mold       0.18      0.15      0.16        20\n",
      "                  Tomato_Septoria_leaf_spot       0.06      0.07      0.06        30\n",
      "Tomato_Spider_mites_Two_spotted_spider_mite       0.06      0.07      0.06        30\n",
      "                        Tomato__Target_Spot       0.04      0.03      0.04        30\n",
      "      Tomato__Tomato_YellowLeaf__Curl_Virus       0.00      0.00      0.00        10\n",
      "                Tomato__Tomato_mosaic_virus       0.00      0.00      0.00         5\n",
      "                             Tomato_healthy       0.04      0.05      0.05        20\n",
      "                       diseased cotton leaf       0.00      0.00      0.00         3\n",
      "                      diseased cotton plant       0.00      0.00      0.00         5\n",
      "                          fresh cotton leaf       0.00      0.00      0.00         5\n",
      "                         fresh cotton plant       0.00      0.00      0.00         5\n",
      "\n",
      "                                   accuracy                           0.04       263\n",
      "                                  macro avg       0.03      0.03      0.03       263\n",
      "                               weighted avg       0.04      0.04      0.04       263\n",
      "\n"
     ]
    }
   ],
   "source": [
    "report = classification_report(true_classes, predicted_classes, target_names=class_labels)\n",
    "print(report) "
   ]
  },
  {
   "cell_type": "code",
   "execution_count": 1,
   "metadata": {
    "executionInfo": {
     "elapsed": 10228,
     "status": "ok",
     "timestamp": 1606028854141,
     "user": {
      "displayName": "waqas bilal",
      "photoUrl": "",
      "userId": "09992051305956338150"
     },
     "user_tz": -300
    },
    "id": "kXsiLYDkxULY"
   },
   "outputs": [],
   "source": [
    "from keras.models import load_model"
   ]
  },
  {
   "cell_type": "code",
   "execution_count": 2,
   "metadata": {},
   "outputs": [
    {
     "ename": "OSError",
     "evalue": "SavedModel file does not exist at: C:\folder_g\\Plant Disesse DataSet DL Problem\\Model\\Various Plant Disease Detection Model1.h5/{saved_model.pbtxt|saved_model.pb}",
     "output_type": "error",
     "traceback": [
      "\u001b[1;31m---------------------------------------------------------------------------\u001b[0m",
      "\u001b[1;31mOSError\u001b[0m                                   Traceback (most recent call last)",
      "\u001b[1;32m<ipython-input-2-1be5ecd692c3>\u001b[0m in \u001b[0;36m<module>\u001b[1;34m\u001b[0m\n\u001b[1;32m----> 1\u001b[1;33m \u001b[0mmodel\u001b[0m \u001b[1;33m=\u001b[0m \u001b[0mload_model\u001b[0m\u001b[1;33m(\u001b[0m\u001b[1;34m\"C:\\folder_g\\Plant Disesse DataSet DL Problem\\Model\\Various Plant Disease Detection Model1.h5\"\u001b[0m\u001b[1;33m)\u001b[0m\u001b[1;33m\u001b[0m\u001b[1;33m\u001b[0m\u001b[0m\n\u001b[0m",
      "\u001b[1;32mc:\\python38\\lib\\site-packages\\tensorflow\\python\\keras\\saving\\save.py\u001b[0m in \u001b[0;36mload_model\u001b[1;34m(filepath, custom_objects, compile)\u001b[0m\n\u001b[0;32m    187\u001b[0m       \u001b[0mfilepath\u001b[0m \u001b[1;33m=\u001b[0m \u001b[0mstr\u001b[0m\u001b[1;33m(\u001b[0m\u001b[0mfilepath\u001b[0m\u001b[1;33m)\u001b[0m\u001b[1;33m\u001b[0m\u001b[1;33m\u001b[0m\u001b[0m\n\u001b[0;32m    188\u001b[0m     \u001b[1;32mif\u001b[0m \u001b[0misinstance\u001b[0m\u001b[1;33m(\u001b[0m\u001b[0mfilepath\u001b[0m\u001b[1;33m,\u001b[0m \u001b[0msix\u001b[0m\u001b[1;33m.\u001b[0m\u001b[0mstring_types\u001b[0m\u001b[1;33m)\u001b[0m\u001b[1;33m:\u001b[0m\u001b[1;33m\u001b[0m\u001b[1;33m\u001b[0m\u001b[0m\n\u001b[1;32m--> 189\u001b[1;33m       \u001b[0mloader_impl\u001b[0m\u001b[1;33m.\u001b[0m\u001b[0mparse_saved_model\u001b[0m\u001b[1;33m(\u001b[0m\u001b[0mfilepath\u001b[0m\u001b[1;33m)\u001b[0m\u001b[1;33m\u001b[0m\u001b[1;33m\u001b[0m\u001b[0m\n\u001b[0m\u001b[0;32m    190\u001b[0m       \u001b[1;32mreturn\u001b[0m \u001b[0msaved_model_load\u001b[0m\u001b[1;33m.\u001b[0m\u001b[0mload\u001b[0m\u001b[1;33m(\u001b[0m\u001b[0mfilepath\u001b[0m\u001b[1;33m,\u001b[0m \u001b[0mcompile\u001b[0m\u001b[1;33m)\u001b[0m\u001b[1;33m\u001b[0m\u001b[1;33m\u001b[0m\u001b[0m\n\u001b[0;32m    191\u001b[0m \u001b[1;33m\u001b[0m\u001b[0m\n",
      "\u001b[1;32mc:\\python38\\lib\\site-packages\\tensorflow\\python\\saved_model\\loader_impl.py\u001b[0m in \u001b[0;36mparse_saved_model\u001b[1;34m(export_dir)\u001b[0m\n\u001b[0;32m    108\u001b[0m       \u001b[1;32mraise\u001b[0m \u001b[0mIOError\u001b[0m\u001b[1;33m(\u001b[0m\u001b[1;34m\"Cannot parse file %s: %s.\"\u001b[0m \u001b[1;33m%\u001b[0m \u001b[1;33m(\u001b[0m\u001b[0mpath_to_pbtxt\u001b[0m\u001b[1;33m,\u001b[0m \u001b[0mstr\u001b[0m\u001b[1;33m(\u001b[0m\u001b[0me\u001b[0m\u001b[1;33m)\u001b[0m\u001b[1;33m)\u001b[0m\u001b[1;33m)\u001b[0m\u001b[1;33m\u001b[0m\u001b[1;33m\u001b[0m\u001b[0m\n\u001b[0;32m    109\u001b[0m   \u001b[1;32melse\u001b[0m\u001b[1;33m:\u001b[0m\u001b[1;33m\u001b[0m\u001b[1;33m\u001b[0m\u001b[0m\n\u001b[1;32m--> 110\u001b[1;33m     raise IOError(\"SavedModel file does not exist at: %s/{%s|%s}\" %\n\u001b[0m\u001b[0;32m    111\u001b[0m                   (export_dir,\n\u001b[0;32m    112\u001b[0m                    \u001b[0mconstants\u001b[0m\u001b[1;33m.\u001b[0m\u001b[0mSAVED_MODEL_FILENAME_PBTXT\u001b[0m\u001b[1;33m,\u001b[0m\u001b[1;33m\u001b[0m\u001b[1;33m\u001b[0m\u001b[0m\n",
      "\u001b[1;31mOSError\u001b[0m: SavedModel file does not exist at: C:\folder_g\\Plant Disesse DataSet DL Problem\\Model\\Various Plant Disease Detection Model1.h5/{saved_model.pbtxt|saved_model.pb}"
     ]
    }
   ],
   "source": [
    "model = load_model(\"C:\\folder_g\\Plant Disesse DataSet DL Problem\\Model\\Various Plant Disease Detection Model1.h5\")"
   ]
  },
  {
   "cell_type": "code",
   "execution_count": null,
   "metadata": {},
   "outputs": [],
   "source": []
  }
 ],
 "metadata": {
  "accelerator": "GPU",
  "colab": {
   "authorship_tag": "ABX9TyOqzYFWqwphhtPja1r5kovQ",
   "collapsed_sections": [],
   "mount_file_id": "1Z7RExk-ZPIRqez7fSf21vn8wrjeqH2pX",
   "name": "Predictions on Test data and classification Report.ipynb",
   "provenance": []
  },
  "kernelspec": {
   "display_name": "Python 3",
   "language": "python",
   "name": "python3"
  },
  "language_info": {
   "codemirror_mode": {
    "name": "ipython",
    "version": 3
   },
   "file_extension": ".py",
   "mimetype": "text/x-python",
   "name": "python",
   "nbconvert_exporter": "python",
   "pygments_lexer": "ipython3",
   "version": "3.8.2"
  }
 },
 "nbformat": 4,
 "nbformat_minor": 1
}
